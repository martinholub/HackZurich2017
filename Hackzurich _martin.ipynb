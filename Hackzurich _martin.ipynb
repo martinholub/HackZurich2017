{
 "cells": [
  {
   "cell_type": "markdown",
   "metadata": {},
   "source": [
    "# Hack Zurich - Fringer"
   ]
  },
  {
   "cell_type": "code",
   "execution_count": 1,
   "metadata": {},
   "outputs": [],
   "source": [
    "%load_ext autoreload\n",
    "%autoreload 2\n",
    "from __future__ import division, print_function\n",
    "\n",
    "import numpy as np\n",
    "%matplotlib inline\n",
    "import matplotlib.pyplot as plt\n",
    "from scipy.spatial.distance import pdist, squareform\n",
    "from sklearn.manifold import MDS, Isomap, TSNE\n",
    "from sklearn.decomposition import PCA\n",
    "\n",
    "from bokeh.resources import CDN\n",
    "from bokeh.embed import file_html\n",
    "\n",
    "from fringiness import *\n",
    "from bokeh.plotting import show"
   ]
  },
  {
   "cell_type": "code",
   "execution_count": 4,
   "metadata": {},
   "outputs": [
    {
     "name": "stdout",
     "output_type": "stream",
     "text": [
      "80\n"
     ]
    }
   ],
   "source": [
    "times      = \"\"\"\n",
    "WASHINGTON — President Trump seized on a terrorist attack in London on Friday to promote his ban on travel to the United States by Muslims and, in the process, ran afoul of Britain by claiming without evidence that the assailants had been “in the sights” of the British police.\n",
    "In a fusillade of early morning tweets, Mr. Trump cited the chaotic scene in a London Underground station as Exhibit A for his hard-line policies. His ban on visitors from predominantly Muslim countries, he wrote, should be “far larger, tougher and more specific” — a statement that seemed calculated to mollify his political base after a week in which Mr. Trump suddenly began playing dealmaker with Democrats on immigration.\n",
    "But Mr. Trump’s assertion that the assailants had been known to Scotland Yard angered Prime Minister Theresa May, who said it was not helpful for anyone to speculate while an investigation was underway. Mr. Trump was later briefed about the attack and called Mrs. May with condolences, according to a senior official, though he did not apologize.\n",
    "It was the latest episode in which Mr. Trump was at odds with Britain over sensitive security issues. In June, he criticized London’s mayor, Sadiq Khan, over his response to another terrorist attack, misconstruing Mr. Khan’s words. In March, the White House press secretary at the time, Sean Spicer, repeated allegations that a British intelligence agency had wiretapped Trump Tower, which British authorities dismissed as “utterly ridiculous.”\n",
    "Trump’s assertions were also a sign that for all the talk about a more disciplined White House under the new chief of staff, John F. Kelly — who has urged the president to have tweets vetted by his aides — Mr. Trump was still determined not to censor himself on social media and was fully capable of roiling the diplomatic waters with a single unguarded post.\n",
    "At 6:42 a.m., Mr. Trump tweeted that “sick and demented people who were in the sights of Scotland Yard” carried out the attack, which injured at least 29 people in the blast and ensuing panic. It was not clear where Mr. Trump got that information, though 23 minutes earlier, “Fox & Friends,” a program he regularly watches, broadcast a report in which a security analyst said he feared that the London police had already known the identity of the attackers.\n",
    "“Can someone tell Scotland Yard?” asked Brian Kilmeade, one of the hosts of the program.\n",
    "White House officials tried to play down the contretemps, saying Mr. Trump was referring to the longstanding efforts of British law enforcement authorities to investigate would-be terrorists, not to anyone involved in Friday’s attack.\n",
    "“What the president was communicating is that obviously all of our law enforcement efforts are focused on this terrorist threat for years,” said the national security adviser, Lt. Gen. H. R. McMaster. “Scotland Yard has been a leader, as our F.B.I. has been a leader.”\n",
    "The press secretary, Sarah Huckabee Sanders, said she believed that Mr. Trump’s tweet had come up in the conversation with Mrs. May, though she did not characterize the exchange. Mr. Trump, for his part, referred to Mrs. May as “a wonderful woman.” But Mrs. May made her displeasure clear earlier in the day when she told reporters, “I never think it’s helpful for anybody to speculate on what is an ongoing investigation.”\n",
    "Others were more scathing. Mrs. May’s former chief of staff, Nick Timothy, wrote on Twitter, “True or not — and I’m sure he doesn’t know — this is so unhelpful from leader of our ally and intelligence partner.”\n",
    "The president has had a strained relationship with Britain since before he took office. Soon after he was elected, he suggested that Nigel Farage, a leader of Britain’s movement to leave the European Union, should be made the British ambassador to the United States — a decision that, London pointed out, was not Mr. Trump’s to make.\n",
    "Mrs. May and Mr. Trump have had an awkward relationship, going back to their first meeting, when people criticized the way he gripped her hand. Last month, she joined other world leaders in criticizing his response to the white supremacist violence in Charlottesville, Va.\n",
    "For Mr. Trump, the news of another terrorist attack also offered a moment to do some political repositioning by returning to themes that have animated him since the presidential campaign. After a week in which his pursuit of a compromise with Democrats on immigration rattled his supporters, the president appeared eager to seize on a range of red-meat issues to prove his bona fides.\n",
    "In addition to the travel ban, Mr. Trump said that no agreement protecting undocumented immigrants brought to the United States as children could include “chain migration” — shorthand among immigration restrictionists for laws that enable immigrants to petition the government for papers for family members.\n",
    "“Trump underestimated the reaction of throwing DACA out there for debate, and now he’s telling us he really wanted to use that to get all the things he could get on enforcement,” said Representative Steve King, Republican of Iowa and an immigration hard-liner. “I don’t think he realized the base was going to blow up on him.”\n",
    "Mr. Trump even weighed in on the dispute over Jemele Hill, a black female commentator at ESPN, who tweeted that the president was a “white supremacist.” “ESPN is paying a really big price for its politics,” he tweeted. “Apologize for untruth!” Ms. Hill has apologized, but Ms. Sanders said her comment was a “fireable offense.”\n",
    "Some polls have shown that the president’s political base would mostly support preserving Deferred Action for Childhood Arrivals, or DACA, which temporarily shields 800,000 young immigrants from deportation. But Mr. King said he was skeptical of those numbers.\n",
    "Neil Newhouse, a Republican pollster who conducted one of the surveys, said Mr. Trump was engaging in an exercise that he believes has been effective in the past. “He has an ability to hold up a shiny object and his base follows it unerringly, and he’s really good at it,” Mr. Newhouse said.\n",
    "Mr. Trump also does not hesitate to point fingers after suspicious explosions in European cities. Some counterterrorism experts were also asking whether Friday’s explosion was another instance in which the police overseas had mishandled tips about a possible attack. On “Fox & Friends” shortly before the president tweeted, Jim Hanson, a security analyst who served in the Army Special Forces, said, “My fear, again, is that we’re going to find out this is someone who is known to police.”\n",
    "A website for the firm Mr. Hanson runs, Security Studies Group, says it focuses on “defending the value of American power against the true threats we face” against a Washington elite that has been “unable or unwilling to address and communicate the most basic requirements of American nationhood.”\n",
    "\"\"\"\n",
    "\n",
    "infowars = \"Mike Isaacson is a professor at John Jay College of Criminal Justice, but he is also an Antifa leader who is proud that the students he is teaching will end up being “dead cops.” In a recent interview with The Hill, Isaacson went in to detail about his pro-violence stance on “anti-fascism.” The justification is that Nazi ideology at its very core is founded on violence and on wielding power by any means. There is the question of whether these people should feel safe organizing as Nazis in public, and I don’t think they should,” he said. Isaacson continued, “I don’t think anyone should think that someone who is intent on politically organizing for the sake of creating a state-sponsored genocide — I don’t think is something that we should protect.” Far Left Watch also points out that he compared Antifa thugs to soldiers fighting for freedom overseas and said that anyone who disagrees with Communism is a fascist.\"\n",
    "\n",
    "res_times = fastrun(times, limit=80)"
   ]
  },
  {
   "cell_type": "code",
   "execution_count": 6,
   "metadata": {
    "collapsed": true
   },
   "outputs": [],
   "source": [
    "def random_data(n, m, sparsity=0.8, mean=2, distribution='poisson'):\n",
    "    \"\"\"\n",
    "    Parameters\n",
    "    ----------\n",
    "    n : int\n",
    "        number of samples\n",
    "    m : int\n",
    "        number of features\n",
    "    sparsity : float between 0 and 1\n",
    "        sets the ratio of zero values in the resulting matrix.\n",
    "    distribution : str\n",
    "        supported are 'poisson' and 'normal'\n",
    "    \"\"\"\n",
    "    if distribution == 'poisson':\n",
    "        r = np.random.poisson(mean, (n, m))\n",
    "    elif distribution == 'normal':\n",
    "        r = np.random.randn(n*m).reshape((n,m)) + mean\n",
    "    p = np.random.rand(n*m).reshape((n,m))\n",
    "    r[p<sparsity] = 0\n",
    "    return r"
   ]
  },
  {
   "cell_type": "code",
   "execution_count": 5,
   "metadata": {
    "collapsed": true
   },
   "outputs": [],
   "source": [
    "# x, y, f = fringiness(res_to_matrix(res_times))\n",
    "# plot = embedding_plot_bokeh(x, y, f)\n",
    "# histogram = histogram_bokeh(f)\n",
    "# show(plot)\n",
    "# show(histogram)\n",
    "\n",
    "# text = \"WASHINGTON—Saying that the charitable contribution would immediately provide a clear conscience, experts reported Friday that you need to donate $37 to hurricane relief in order to completely forget about what happened. “Concerned individuals have been asking what they can do to stop feeling bad about hurricane victims, so everyone should know that a $37 donation is sufficient to allow you to move on from the disaster once and for all,” said nonprofit analyst Sandra Western, adding that a donation in that amount entitles the giver to avoid any further media coverage of the hurricane and not feel any kind of shame about the degree to which they were helping. “You can donate $25, but the notion that you could have done more might nag at you for a bit. At $37, however, you’ll be able to tell yourself you pitched in when some truly desperate people needed you most and then never think about them again. In addition, if you donate $65 or more, you can also sit out the next catastrophe with no guilt whatsoever.” Western went on to say that the guidelines did not apply to selfish assholes, who could donate nothing and immediately forget the devastation anyway.\"\n",
    "# import data_getter\n",
    "# res = data_getter.run(text)\n",
    "# # x, y, f = fringiness(data, 'cosine')\n",
    "\n",
    "# np.save(\"src_local/f.npy\", f)\n",
    "# np.save(\"src_local/y.npy\", y)\n",
    "# np.save(\"src_local/x.npy\", x)\n",
    "# import json\n",
    "# with open('src_local/data.json', 'w') as outfile:\n",
    "#     json.dump(res_times, outfile)\n",
    "\n",
    "# # Load local data to save some time on processing\n",
    "# import json\n",
    "# with open('src_local/data.json') as data_file:    \n",
    "#     res = json.load(data_file)\n",
    "# x = np.load('src_local/x.npy')\n",
    "# y = np.load(\"src_local/y.npy\")\n",
    "# f = np.load(\"src_local/f.npy\")\n"
   ]
  },
  {
   "cell_type": "code",
   "execution_count": 87,
   "metadata": {},
   "outputs": [
    {
     "name": "stderr",
     "output_type": "stream",
     "text": [
      "C:\\Users\\marti\\Miniconda2\\envs\\hzh36\\lib\\site-packages\\bokeh\\util\\deprecation.py:34: BokehDeprecationWarning: \n",
      "Supplying a user-defined data source AND iterable values to glyph methods is deprecated.\n",
      "\n",
      "See https://github.com/bokeh/bokeh/issues/2056 for more information.\n",
      "\n",
      "  warn(message)\n"
     ]
    }
   ],
   "source": [
    "#vs, idxer = res_to_matrix(res_times)\n",
    "#(ents, tops, tits) = res_to_annot(res_times, idxer)\n",
    "x, y, f = fringiness(res_to_matrix(res_times)[0])\n",
    "# Get a plot\n",
    "plot = embedding_plot_bokeh(x, y, f, res_times)\n",
    "show(plot)"
   ]
  },
  {
   "cell_type": "code",
   "execution_count": 86,
   "metadata": {
    "scrolled": false
   },
   "outputs": [],
   "source": [
    "from bokeh.resources import Resources\n",
    "rscs = Resources(mode = \"relative\", root_dir = \"/rsc\", minified = False)\n",
    "html = file_html(plot, Resources(), title = \"my plot\")\n",
    "with open(\"file.html\", \"w\") as file:\n",
    "    file.write(html)"
   ]
  }
 ],
 "metadata": {
  "kernelspec": {
   "display_name": "Python 3",
   "language": "python",
   "name": "python3"
  },
  "language_info": {
   "codemirror_mode": {
    "name": "ipython",
    "version": 3
   },
   "file_extension": ".py",
   "mimetype": "text/x-python",
   "name": "python",
   "nbconvert_exporter": "python",
   "pygments_lexer": "ipython3",
   "version": "3.6.2"
  }
 },
 "nbformat": 4,
 "nbformat_minor": 2
}
