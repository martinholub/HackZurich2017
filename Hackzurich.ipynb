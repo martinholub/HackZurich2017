{
 "cells": [
  {
   "cell_type": "markdown",
   "metadata": {},
   "source": [
    "# Hack Zurich - Fringer"
   ]
  },
  {
   "cell_type": "code",
   "execution_count": 1,
   "metadata": {},
   "outputs": [],
   "source": [
    "%load_ext autoreload\n",
    "%autoreload 2\n",
    "from __future__ import division, print_function\n",
    "\n",
    "import numpy as np\n",
    "%matplotlib inline\n",
    "import matplotlib.pyplot as plt\n",
    "from scipy.spatial.distance import pdist, squareform\n",
    "from sklearn.manifold import MDS, Isomap, TSNE\n",
    "from sklearn.decomposition import PCA\n",
    "\n",
    "from bokeh.resources import CDN\n",
    "from bokeh.embed import file_html\n",
    "\n",
    "from fringiness import *\n",
    "from bokeh.plotting import show\n",
    "from data_getter import *"
   ]
  },
  {
   "cell_type": "code",
   "execution_count": 15,
   "metadata": {},
   "outputs": [
    {
     "name": "stdout",
     "output_type": "stream",
     "text": [
      "80\n"
     ]
    }
   ],
   "source": [
    "times      = \"\"\"\n",
    "WASHINGTON — President Trump seized on a terrorist attack in London on Friday to promote his ban on travel to the United States by Muslims and, in the process, ran afoul of Britain by claiming without evidence that the assailants had been “in the sights” of the British police.\n",
    "In a fusillade of early morning tweets, Mr. Trump cited the chaotic scene in a London Underground station as Exhibit A for his hard-line policies. His ban on visitors from predominantly Muslim countries, he wrote, should be “far larger, tougher and more specific” — a statement that seemed calculated to mollify his political base after a week in which Mr. Trump suddenly began playing dealmaker with Democrats on immigration.\n",
    "But Mr. Trump’s assertion that the assailants had been known to Scotland Yard angered Prime Minister Theresa May, who said it was not helpful for anyone to speculate while an investigation was underway. Mr. Trump was later briefed about the attack and called Mrs. May with condolences, according to a senior official, though he did not apologize.\n",
    "It was the latest episode in which Mr. Trump was at odds with Britain over sensitive security issues. In June, he criticized London’s mayor, Sadiq Khan, over his response to another terrorist attack, misconstruing Mr. Khan’s words. In March, the White House press secretary at the time, Sean Spicer, repeated allegations that a British intelligence agency had wiretapped Trump Tower, which British authorities dismissed as “utterly ridiculous.”\n",
    "Trump’s assertions were also a sign that for all the talk about a more disciplined White House under the new chief of staff, John F. Kelly — who has urged the president to have tweets vetted by his aides — Mr. Trump was still determined not to censor himself on social media and was fully capable of roiling the diplomatic waters with a single unguarded post.\n",
    "At 6:42 a.m., Mr. Trump tweeted that “sick and demented people who were in the sights of Scotland Yard” carried out the attack, which injured at least 29 people in the blast and ensuing panic. It was not clear where Mr. Trump got that information, though 23 minutes earlier, “Fox & Friends,” a program he regularly watches, broadcast a report in which a security analyst said he feared that the London police had already known the identity of the attackers.\n",
    "“Can someone tell Scotland Yard?” asked Brian Kilmeade, one of the hosts of the program.\n",
    "White House officials tried to play down the contretemps, saying Mr. Trump was referring to the longstanding efforts of British law enforcement authorities to investigate would-be terrorists, not to anyone involved in Friday’s attack.\n",
    "“What the president was communicating is that obviously all of our law enforcement efforts are focused on this terrorist threat for years,” said the national security adviser, Lt. Gen. H. R. McMaster. “Scotland Yard has been a leader, as our F.B.I. has been a leader.”\n",
    "The press secretary, Sarah Huckabee Sanders, said she believed that Mr. Trump’s tweet had come up in the conversation with Mrs. May, though she did not characterize the exchange. Mr. Trump, for his part, referred to Mrs. May as “a wonderful woman.” But Mrs. May made her displeasure clear earlier in the day when she told reporters, “I never think it’s helpful for anybody to speculate on what is an ongoing investigation.”\n",
    "Others were more scathing. Mrs. May’s former chief of staff, Nick Timothy, wrote on Twitter, “True or not — and I’m sure he doesn’t know — this is so unhelpful from leader of our ally and intelligence partner.”\n",
    "The president has had a strained relationship with Britain since before he took office. Soon after he was elected, he suggested that Nigel Farage, a leader of Britain’s movement to leave the European Union, should be made the British ambassador to the United States — a decision that, London pointed out, was not Mr. Trump’s to make.\n",
    "Mrs. May and Mr. Trump have had an awkward relationship, going back to their first meeting, when people criticized the way he gripped her hand. Last month, she joined other world leaders in criticizing his response to the white supremacist violence in Charlottesville, Va.\n",
    "For Mr. Trump, the news of another terrorist attack also offered a moment to do some political repositioning by returning to themes that have animated him since the presidential campaign. After a week in which his pursuit of a compromise with Democrats on immigration rattled his supporters, the president appeared eager to seize on a range of red-meat issues to prove his bona fides.\n",
    "In addition to the travel ban, Mr. Trump said that no agreement protecting undocumented immigrants brought to the United States as children could include “chain migration” — shorthand among immigration restrictionists for laws that enable immigrants to petition the government for papers for family members.\n",
    "“Trump underestimated the reaction of throwing DACA out there for debate, and now he’s telling us he really wanted to use that to get all the things he could get on enforcement,” said Representative Steve King, Republican of Iowa and an immigration hard-liner. “I don’t think he realized the base was going to blow up on him.”\n",
    "Mr. Trump even weighed in on the dispute over Jemele Hill, a black female commentator at ESPN, who tweeted that the president was a “white supremacist.” “ESPN is paying a really big price for its politics,” he tweeted. “Apologize for untruth!” Ms. Hill has apologized, but Ms. Sanders said her comment was a “fireable offense.”\n",
    "Some polls have shown that the president’s political base would mostly support preserving Deferred Action for Childhood Arrivals, or DACA, which temporarily shields 800,000 young immigrants from deportation. But Mr. King said he was skeptical of those numbers.\n",
    "Neil Newhouse, a Republican pollster who conducted one of the surveys, said Mr. Trump was engaging in an exercise that he believes has been effective in the past. “He has an ability to hold up a shiny object and his base follows it unerringly, and he’s really good at it,” Mr. Newhouse said.\n",
    "Mr. Trump also does not hesitate to point fingers after suspicious explosions in European cities. Some counterterrorism experts were also asking whether Friday’s explosion was another instance in which the police overseas had mishandled tips about a possible attack. On “Fox & Friends” shortly before the president tweeted, Jim Hanson, a security analyst who served in the Army Special Forces, said, “My fear, again, is that we’re going to find out this is someone who is known to police.”\n",
    "A website for the firm Mr. Hanson runs, Security Studies Group, says it focuses on “defending the value of American power against the true threats we face” against a Washington elite that has been “unable or unwilling to address and communicate the most basic requirements of American nationhood.”\n",
    "\"\"\"\n",
    "\n",
    "infowars = \"Mike Isaacson is a professor at John Jay College of Criminal Justice, but he is also an Antifa leader who is proud that the students he is teaching will end up being “dead cops.” In a recent interview with The Hill, Isaacson went in to detail about his pro-violence stance on “anti-fascism.” The justification is that Nazi ideology at its very core is founded on violence and on wielding power by any means. There is the question of whether these people should feel safe organizing as Nazis in public, and I don’t think they should,” he said. Isaacson continued, “I don’t think anyone should think that someone who is intent on politically organizing for the sake of creating a state-sponsored genocide — I don’t think is something that we should protect.” Far Left Watch also points out that he compared Antifa thugs to soldiers fighting for freedom overseas and said that anyone who disagrees with Communism is a fascist.\"\n",
    "\n",
    "#res_infowars = fastrun(infowars)\n",
    "#print(len(res_infowars['environs']))\n",
    "res_times = fastrun(times, limit=80)\n",
    "print(len(res_times['environs']))\n",
    "# res_fox = fastrun(fox)\n",
    "# print(len(res_fox['environs']))\n",
    "# res_onion = fastrun(onion)\n",
    "# print(len(res_onion['environs']))\n",
    "# res_clickhole = fastrun(clickhole)\n",
    "# print(len(res_clickhole['environs']))\n",
    "# res_reptilians = fastrun(reptilians)\n",
    "# print(len(res_reptilians['environs']))"
   ]
  },
  {
   "cell_type": "code",
   "execution_count": 16,
   "metadata": {},
   "outputs": [
    {
     "name": "stdout",
     "output_type": "stream",
     "text": [
      "[[  1.19737714e-02   5.13005023e-02   1.20078999e-01 ...,  -6.99465960e-03\n",
      "    7.65321201e-04   5.88974250e-17]\n",
      " [ -1.83735815e-01   1.00534413e+00   2.14870865e-01 ...,  -2.50877743e-02\n",
      "    5.24884230e-03   5.88974250e-17]\n",
      " [ -3.47919983e-01  -3.02970185e-01  -5.25496204e-01 ...,   4.77141683e-03\n",
      "   -2.94146850e-04   5.88974250e-17]\n",
      " ..., \n",
      " [ -6.05188654e-01  -9.18830908e-02   5.34736981e-02 ...,  -1.19108713e-03\n",
      "    9.53146587e-04   5.88974250e-17]\n",
      " [ -8.46352090e-02  -2.63386835e-01  -8.97356736e-02 ...,   4.84555466e-03\n",
      "   -7.75001872e-03   5.88974250e-17]\n",
      " [ -5.89781489e-01  -1.27401103e-01   2.11370095e-02 ...,  -3.05130945e-03\n",
      "    3.77736169e-03   5.88974250e-17]]\n"
     ]
    }
   ],
   "source": [
    "x, y, f = fringiness(res_to_matrix(res_times))\n",
    "plot = embedding_plot_bokeh(x, y, f)\n",
    "histogram = histogram_bokeh(f)\n",
    "show(plot)\n",
    "show(histogram)"
   ]
  },
  {
   "cell_type": "code",
   "execution_count": 6,
   "metadata": {},
   "outputs": [],
   "source": [
    "x, y, f = fringiness(res_to_matrix(res_fox))\n",
    "plot = embedding_plot_bokeh(x, y, f)\n",
    "histogram = histogram_bokeh(f)\n",
    "show(plot)\n",
    "show(histogram)"
   ]
  },
  {
   "cell_type": "code",
   "execution_count": 6,
   "metadata": {
    "scrolled": false
   },
   "outputs": [],
   "source": [
    "x, y, f = fringiness(res_to_matrix(res_onion))\n",
    "plot = embedding_plot_bokeh(x, y, f)\n",
    "histogram = histogram_bokeh(f)\n",
    "show(plot)\n",
    "show(histogram)"
   ]
  },
  {
   "cell_type": "code",
   "execution_count": 7,
   "metadata": {},
   "outputs": [],
   "source": [
    "x, y, f = fringiness(res_to_matrix(res_clickhole))\n",
    "plot = embedding_plot_bokeh(x, y, f)\n",
    "histogram = histogram_bokeh(f)\n",
    "show(plot)\n",
    "show(histogram)"
   ]
  },
  {
   "cell_type": "code",
   "execution_count": 8,
   "metadata": {
    "collapsed": true
   },
   "outputs": [],
   "source": [
    "x, y, f = fringiness(res_to_matrix(res_reptilians))\n",
    "plot = embedding_plot_bokeh(x, y, f)\n",
    "histogram = histogram_bokeh(f)\n",
    "show(plot)\n",
    "show(histogram)"
   ]
  },
  {
   "cell_type": "code",
   "execution_count": 9,
   "metadata": {},
   "outputs": [
    {
     "name": "stdout",
     "output_type": "stream",
     "text": [
      "[[ -1.71369970e-01  -2.31243198e-01   7.60319120e-01  -1.40584952e-01\n",
      "    9.97633913e-18]\n",
      " [ -4.25481891e-01   2.09472033e-01  -3.58450698e-01  -5.46888969e-01\n",
      "    9.97633913e-18]\n",
      " [  6.80643334e-01  -5.41444554e-01  -2.74445169e-01  -5.95092417e-02\n",
      "    9.97633913e-18]\n",
      " [  4.62535680e-01   7.19353573e-01   9.41318015e-02   1.90133242e-01\n",
      "    9.97633913e-18]\n",
      " [ -5.46327153e-01  -1.56137854e-01  -2.21555054e-01   5.56849920e-01\n",
      "    9.97633913e-18]]\n"
     ]
    }
   ],
   "source": [
    "x, y, f = fringiness(res_to_matrix(res_infowars))\n",
    "plot = embedding_plot_bokeh(x, y, f)\n",
    "histogram = histogram_bokeh(f)\n",
    "show(plot)\n",
    "show(histogram)"
   ]
  },
  {
   "cell_type": "code",
   "execution_count": null,
   "metadata": {
    "collapsed": true
   },
   "outputs": [],
   "source": []
  }
 ],
 "metadata": {
  "kernelspec": {
   "display_name": "Python 3",
   "language": "python",
   "name": "python3"
  },
  "language_info": {
   "codemirror_mode": {
    "name": "ipython",
    "version": 3
   },
   "file_extension": ".py",
   "mimetype": "text/x-python",
   "name": "python",
   "nbconvert_exporter": "python",
   "pygments_lexer": "ipython3",
   "version": "3.6.2"
  }
 },
 "nbformat": 4,
 "nbformat_minor": 2
}
