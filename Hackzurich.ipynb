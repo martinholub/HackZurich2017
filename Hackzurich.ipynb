{
 "cells": [
  {
   "cell_type": "markdown",
   "metadata": {},
   "source": [
    "# Hack Zurich - Fringer"
   ]
  },
  {
   "cell_type": "code",
   "execution_count": 1,
   "metadata": {},
   "outputs": [],
   "source": [
    "%load_ext autoreload\n",
    "%autoreload 2\n",
    "from __future__ import division, print_function\n",
    "\n",
    "import numpy as np\n",
    "%matplotlib inline\n",
    "import matplotlib.pyplot as plt\n",
    "from scipy.spatial.distance import pdist, squareform\n",
    "from sklearn.manifold import MDS, Isomap, TSNE\n",
    "from sklearn.decomposition import PCA\n",
    "\n",
    "from fringiness import *\n",
    "from bokeh.plotting import show\n",
    "from data_getter import *"
   ]
  },
  {
   "cell_type": "markdown",
   "metadata": {},
   "source": [
    "Create random data to test the method."
   ]
  },
  {
   "cell_type": "code",
   "execution_count": 9,
   "metadata": {
    "collapsed": true
   },
   "outputs": [],
   "source": [
    "def random_data(n, m, sparsity=0.8, mean=2, distribution='poisson'):\n",
    "    \"\"\"\n",
    "    Parameters\n",
    "    ----------\n",
    "    n : int\n",
    "        number of samples\n",
    "    m : int\n",
    "        number of features\n",
    "    sparsity : float between 0 and 1\n",
    "        sets the ratio of zero values in the resulting matrix.\n",
    "    distribution : str\n",
    "        supported are 'poisson' and 'normal'\n",
    "    \"\"\"\n",
    "    if distribution == 'poisson':\n",
    "        r = np.random.poisson(mean, (n, m))\n",
    "    elif distribution == 'normal':\n",
    "        r = np.random.randn(n*m).reshape((n,m)) + mean\n",
    "    p = np.random.rand(n*m).reshape((n,m))\n",
    "    r[p<sparsity] = 0\n",
    "    return r\n",
    "\n",
    "def res_to_matrix(res):\n",
    "    all_keys = set(res['point'])\n",
    "    \n",
    "    for env in res['environs']:\n",
    "        all_keys |= env['entities'].keys()\n",
    "    reference = np.array(list(all_keys))\n",
    "    v = np.zeros(len(reference))\n",
    "    v[np.hstack([np.where(reference==key) \n",
    "                 for key in res['point']])[0]] = 1\n",
    "    vs = [v]\n",
    "    for env in res['environs']:\n",
    "        v = np.zeros(len(reference))\n",
    "        try:\n",
    "            v[np.hstack([np.where(reference==key) \n",
    "                         for key in env['entities']])[0]] = 1\n",
    "            vs.append(v)\n",
    "        except ValueError:\n",
    "            pass\n",
    "        \n",
    "    vs = np.vstack(vs)\n",
    "    return vs\n",
    "\n",
    "def text_to_matrix(text):\n",
    "    return res_to_matrix(run(text))"
   ]
  },
  {
   "cell_type": "code",
   "execution_count": 5,
   "metadata": {
    "collapsed": true
   },
   "outputs": [],
   "source": [
    "data = np.vstack((\n",
    "    random_data(200, 100, mean=.5, sparsity=.8, distribution='poisson'), \n",
    "    random_data(200, 100, mean=10, sparsity=.8, distribution='normal'),\n",
    "    random_data(200, 100, mean=8, sparsity=.8, distribution='poisson'), \n",
    "    random_data(200, 100, mean=1, sparsity=.8, distribution='normal')))"
   ]
  },
  {
   "cell_type": "code",
   "execution_count": null,
   "metadata": {
    "scrolled": true
   },
   "outputs": [],
   "source": [
    "fig = plt.figure()\n",
    "\n",
    "ax = fig.add_subplot(121)\n",
    "ax.set_title('Raw data')\n",
    "cax = ax.imshow(data.T / np.linalg.norm(data,axis=1), aspect='auto')\n",
    "ax.set_ylabel('Sample #')\n",
    "ax.set_xlabel('Entity #')\n",
    "\n",
    "ax = fig.add_subplot(122)\n",
    "ax.hist(data.flatten(),bins=range(10))\n",
    "ax.set_title('Entity frequency distribution')\n",
    "\n",
    "plt.colorbar(cax)\n",
    "plt.tight_layout()"
   ]
  },
  {
   "cell_type": "code",
   "execution_count": 3,
   "metadata": {
    "collapsed": true
   },
   "outputs": [],
   "source": [
    "text = \"WASHINGTON—Saying that the charitable contribution would immediately provide a clear conscience, experts reported Friday that you need to donate $37 to hurricane relief in order to completely forget about what happened. “Concerned individuals have been asking what they can do to stop feeling bad about hurricane victims, so everyone should know that a $37 donation is sufficient to allow you to move on from the disaster once and for all,” said nonprofit analyst Sandra Western, adding that a donation in that amount entitles the giver to avoid any further media coverage of the hurricane and not feel any kind of shame about the degree to which they were helping. “You can donate $25, but the notion that you could have done more might nag at you for a bit. At $37, however, you’ll be able to tell yourself you pitched in when some truly desperate people needed you most and then never think about them again. In addition, if you donate $65 or more, you can also sit out the next catastrophe with no guilt whatsoever.” Western went on to say that the guidelines did not apply to selfish assholes, who could donate nothing and immediately forget the devastation anyway.\"\n",
    "res = run("
   ]
  },
  {
   "cell_type": "code",
   "execution_count": 4,
   "metadata": {
    "scrolled": true
   },
   "outputs": [
    {
     "name": "stdout",
     "output_type": "stream",
     "text": [
      "104\n"
     ]
    }
   ],
   "source": [
    "print(len(res['environs']))"
   ]
  },
  {
   "cell_type": "code",
   "execution_count": 10,
   "metadata": {},
   "outputs": [],
   "source": [
    "data = res_to_matrix(res)\n",
    "fr = fringiness(data, 'cosine')\n",
    "plot = embedding_plot_bokeh(*fr)\n",
    "histogram = histogram_bokeh(fr[2])\n",
    "show(plot)\n",
    "show(histogram)"
   ]
  }
 ],
 "metadata": {
  "kernelspec": {
   "display_name": "Python 3",
   "language": "python",
   "name": "python3"
  },
  "language_info": {
   "codemirror_mode": {
    "name": "ipython",
    "version": 3
   },
   "file_extension": ".py",
   "mimetype": "text/x-python",
   "name": "python",
   "nbconvert_exporter": "python",
   "pygments_lexer": "ipython3",
   "version": "3.6.2"
  }
 },
 "nbformat": 4,
 "nbformat_minor": 2
}
