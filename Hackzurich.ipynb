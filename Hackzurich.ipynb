{
 "cells": [
  {
   "cell_type": "markdown",
   "metadata": {},
   "source": [
    "# Hack Zurich - Fringer"
   ]
  },
  {
   "cell_type": "code",
   "execution_count": 3,
   "metadata": {},
   "outputs": [
    {
     "name": "stdout",
     "output_type": "stream",
     "text": [
      "The autoreload extension is already loaded. To reload it, use:\n",
      "  %reload_ext autoreload\n"
     ]
    }
   ],
   "source": [
    "%load_ext autoreload\n",
    "%autoreload 2\n",
    "from __future__ import division, print_function\n",
    "\n",
    "import numpy as np\n",
    "%matplotlib inline\n",
    "import matplotlib.pyplot as plt\n",
    "from scipy.spatial.distance import pdist, squareform\n",
    "from sklearn.manifold import MDS, Isomap, TSNE\n",
    "from sklearn.decomposition import PCA\n",
    "\n",
    "from fringiness import *\n",
    "from bokeh.plotting import show\n",
    "from data_getter import *"
   ]
  },
  {
   "cell_type": "markdown",
   "metadata": {},
   "source": [
    "Create random data to test the method."
   ]
  },
  {
   "cell_type": "code",
   "execution_count": 75,
   "metadata": {
    "collapsed": true
   },
   "outputs": [],
   "source": [
    "def random_data(n, m, sparsity=0.8, mean=2, distribution='poisson'):\n",
    "    \"\"\"\n",
    "    Parameters\n",
    "    ----------\n",
    "    n : int\n",
    "        number of samples\n",
    "    m : int\n",
    "        number of features\n",
    "    sparsity : float between 0 and 1\n",
    "        sets the ratio of zero values in the resulting matrix.\n",
    "    distribution : str\n",
    "        supported are 'poisson' and 'normal'\n",
    "    \"\"\"\n",
    "    if distribution == 'poisson':\n",
    "        r = np.random.poisson(mean, (n, m))\n",
    "    elif distribution == 'normal':\n",
    "        r = np.random.randn(n*m).reshape((n,m)) + mean\n",
    "    p = np.random.rand(n*m).reshape((n,m))\n",
    "    r[p<sparsity] = 0\n",
    "    return r\n",
    "\n",
    "def res_to_matrix(res):\n",
    "    all_keys = set(res['point'])\n",
    "    \n",
    "    for env in res['environs']:\n",
    "        all_keys |= env['entities'].keys()\n",
    "    reference = np.array(list(all_keys))\n",
    "    v = np.zeros(len(reference))\n",
    "    v[np.hstack([np.where(reference==key) \n",
    "                 for key in res['point']])[0]] = 1\n",
    "    vs = [v]\n",
    "    for env in res['environs']:\n",
    "        v = np.zeros(len(reference))\n",
    "        v[np.hstack([np.where(reference==key) \n",
    "                     for key in env['entities']])[0]] = 1\n",
    "        vs.append(v)\n",
    "    vs = np.vstack(vs)\n",
    "    return vs\n",
    "\n",
    "def text_to_matrix(text):\n",
    "    return res_to_matrix(run(text))"
   ]
  },
  {
   "cell_type": "code",
   "execution_count": 5,
   "metadata": {
    "collapsed": true
   },
   "outputs": [],
   "source": [
    "data = np.vstack((\n",
    "    random_data(200, 100, mean=.5, sparsity=.8, distribution='poisson'), \n",
    "    random_data(200, 100, mean=10, sparsity=.8, distribution='normal'),\n",
    "    random_data(200, 100, mean=8, sparsity=.8, distribution='poisson'), \n",
    "    random_data(200, 100, mean=1, sparsity=.8, distribution='normal')))"
   ]
  },
  {
   "cell_type": "code",
   "execution_count": null,
   "metadata": {
    "scrolled": true
   },
   "outputs": [],
   "source": [
    "fig = plt.figure()\n",
    "\n",
    "ax = fig.add_subplot(121)\n",
    "ax.set_title('Raw data')\n",
    "cax = ax.imshow(data.T / np.linalg.norm(data,axis=1), aspect='auto')\n",
    "ax.set_ylabel('Sample #')\n",
    "ax.set_xlabel('Entity #')\n",
    "\n",
    "ax = fig.add_subplot(122)\n",
    "ax.hist(data.flatten(),bins=range(10))\n",
    "ax.set_title('Entity frequency distribution')\n",
    "\n",
    "plt.colorbar(cax)\n",
    "plt.tight_layout()"
   ]
  },
  {
   "cell_type": "code",
   "execution_count": null,
   "metadata": {
    "collapsed": true
   },
   "outputs": [],
   "source": [
    "text = \"\"\"ST. LOUIS (Reuters) - Police using tear gas and rubber bullets clashed with demonstrators in St Louis in the early hours of Saturday after a white former policeman was acquitted of murdering a black suspect.\n",
    "A peaceful protest over Friday’s not guilty verdict turned violent after police confronted a small group of demonstrators - three years after the police shooting of another black suspect in the nearby suburb of Ferguson stirred nationwide anger and debate.\n",
    "Officers fired tear gas as people broke windows at a library, a restaurant and a home and threw bricks and water bottles at officers. Eight officers were injured, police said.\n",
    "Former city policeman Jason Stockley, 36, was found not guilty of the first-degree murder of Anthony Lamar Smith, 24, shot to death on Dec. 20, 2011.\n",
    "After the ruling, around 600 protesters marched from the courthouse through downtown St. Louis, chanting “No justice, no peace” and “Hey hey! Ho ho! These killer cops have got to go!” Some held “Black Lives Matter” signs.\"\"\""
   ]
  },
  {
   "cell_type": "code",
   "execution_count": null,
   "metadata": {
    "collapsed": true
   },
   "outputs": [],
   "source": [
    "res = run(text)"
   ]
  },
  {
   "cell_type": "code",
   "execution_count": 77,
   "metadata": {},
   "outputs": [],
   "source": [
    "data = res_to_matrix(res)"
   ]
  },
  {
   "cell_type": "code",
   "execution_count": 78,
   "metadata": {
    "collapsed": true
   },
   "outputs": [],
   "source": [
    "fr = fringiness(data, 'cosine')"
   ]
  },
  {
   "cell_type": "code",
   "execution_count": 79,
   "metadata": {
    "collapsed": true
   },
   "outputs": [],
   "source": [
    "plot = embedding_plot_bokeh(*fr)\n",
    "show(plot)"
   ]
  },
  {
   "cell_type": "code",
   "execution_count": 81,
   "metadata": {
    "collapsed": true
   },
   "outputs": [],
   "source": [
    "histogram = histogram_bokeh(fr[2])\n",
    "show(histogram)"
   ]
  },
  {
   "cell_type": "code",
   "execution_count": null,
   "metadata": {
    "collapsed": true
   },
   "outputs": [],
   "source": []
  }
 ],
 "metadata": {
  "kernelspec": {
   "display_name": "Python 3",
   "language": "python",
   "name": "python3"
  },
  "language_info": {
   "codemirror_mode": {
    "name": "ipython",
    "version": 3
   },
   "file_extension": ".py",
   "mimetype": "text/x-python",
   "name": "python",
   "nbconvert_exporter": "python",
   "pygments_lexer": "ipython3",
   "version": "3.6.2"
  }
 },
 "nbformat": 4,
 "nbformat_minor": 2
}
