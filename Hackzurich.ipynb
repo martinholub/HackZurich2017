{
 "cells": [
  {
   "cell_type": "markdown",
   "metadata": {},
   "source": [
    "# Hack Zurich - Fringer"
   ]
  },
  {
   "cell_type": "code",
   "execution_count": 1,
   "metadata": {},
   "outputs": [],
   "source": [
    "%load_ext autoreload\n",
    "%autoreload 2\n",
    "from __future__ import division, print_function\n",
    "\n",
    "import numpy as np\n",
    "%matplotlib inline\n",
    "import matplotlib.pyplot as plt\n",
    "from scipy.spatial.distance import pdist, squareform\n",
    "from sklearn.manifold import MDS, Isomap, TSNE\n",
    "from sklearn.decomposition import PCA\n",
    "\n",
    "from bokeh.resources import CDN\n",
    "from bokeh.embed import file_html\n",
    "\n",
    "from fringiness import *\n",
    "from bokeh.plotting import show\n",
    "from data_getter import *"
   ]
  },
  {
   "cell_type": "code",
   "execution_count": 2,
   "metadata": {},
   "outputs": [
    {
     "name": "stdout",
     "output_type": "stream",
     "text": [
      "218\n",
      "0\n",
      "0\n",
      "0\n",
      "0\n"
     ]
    }
   ],
   "source": [
    "times = \"This week President Trump reached a deal with Democrats to enshrine into law protections for young illegal immigrants brought to the United States as children. Within a matter of days, these young people went from fearing deportation to homelands some had never known, to having a potential shot at citizenship. Did this mark the arrival of a new, compassionate, capable Donald Trump? Sadly, probably not. Mr. Trump’s actions are rarely underpinned by principles, or a vision of who we are as a nation. Even on matters of near-perfect moral clarity, he is often transactional and capricious. If he does the right thing, there must be an angle. His word is never final; it’s only the latest in a never-ending set of tactical adjustments made with one eye on his poll numbers, and the other on Fox News. If it benefits Mr. Trump personally to renege on this week’s tentative deal with Democrats and woo xenophobes and bigots instead of reviving the “Dream Act,” he will. If his core supporters thought his sympathy for Dreamers was evidence that he was getting wobbly on immigration, he made clear they could still count on his sympathy for racists. Soon after Tim Scott of South Carolina, the Senate’s lone black Republican, privately scolded him for his “sterile” response to “hate groups who over three centuries of this country’s history have made it their mission to create upheaval in minority communities,” Mr. Trump once again asserted what he saw as an equivalence between the white supremacists who marched in Charlottesville, Va., and those who aggressively opposed them. And while he did sign a congressional resolution denouncing these hate groups, his refusal to unequivocally reject them is what led to the unanimously approved measure to begin with.\"\n",
    "fox = \"Outraged New York police union leaders are calling for the firing of a John Jay College professor and avowed Antifa leader after he tweeted that it 'is a privilege to teach future dead cops.' Michael Issacson, an adjunct-professor at the John Jay College of Criminal Justice, and known Antifa leader, tweeted Aug. 23, 'Some of y’all might think it sucks being an anti-fascist teacher at John Jay College but I think it’s a privilege to teach future dead cops.'\"\n",
    "onion = \"WASHINGTON—Saying that the charitable contribution would immediately provide a clear conscience, experts reported Friday that you need to donate $37 to hurricane relief in order to completely forget about what happened. “Concerned individuals have been asking what they can do to stop feeling bad about hurricane victims, so everyone should know that a $37 donation is sufficient to allow you to move on from the disaster once and for all,” said nonprofit analyst Sandra Western, adding that a donation in that amount entitles the giver to avoid any further media coverage of the hurricane and not feel any kind of shame about the degree to which they were helping. “You can donate $25, but the notion that you could have done more might nag at you for a bit. At $37, however, you’ll be able to tell yourself you pitched in when some truly desperate people needed you most and then never think about them again. In addition, if you donate $65 or more, you can also sit out the next catastrophe with no guilt whatsoever.” Western went on to say that the guidelines did not apply to selfish assholes, who could donate nothing and immediately forget the devastation anyway.\"\n",
    "clickhole = \"In the dog-eat-dog world of the tobacco industry, it can be tough to get a leg up on the competition, which is why Camel is doing something unmistakably bold: The cigarette manufacturer is now advertising to kids again since it seems like with everything going on in the world, no one will notice. Wow. Now this is a company that’s willing to push boundaries to get its product out! After contemplating a number of ways to expand its market share, Camel has decided that with the way things are going socially and politically, no one could possibly have the time or energy to notice that it’s back to marketing to children, or even come down on it too hard if it did. It looks like as long as neo-Nazis continue to get more organized and the president remains willing to defend them, Camel is going to go ahead and sell some cigarettes to children because, frankly, the world as a whole has some bigger fish to fry. Camel began its daring new campaign by dropping a few ads on Snapchat, and the lack of outcry proved that parents were too glued to the TV over reports of a nuclear North Korea to be concerned that their teens were being directly marketed cancer-causing products in between their friends’ stories. Clearly, Camel was emboldened by that test balloon, because the two-page ad it took out in September’s Ranger Rick depicting a kid holding a cigarette in one hand and a fidget spinner in the other with the copy “If you really want something to calm you down, light up a Camel” was a sign that Camel knows that the global rise of right-wing anti-immigrant sentiment is pulling focus from publishers, parents, and the FCC, who wish fighting back against cigarette ads targeted at kids was their biggest problem to worry about. Incredible. Whoever’s in charge of this advertising strategy should be up for a promotion, because this is thinking outside the box! It’ll be interesting to see if the world will ever get all of the big stuff sorted out enough to eventually turn its attention toward Camel’s direct targeting of the under 18 crowd. Only time will tell!\"\n",
    "reptilians = \"They are among us. Blood-drinking, flesh-eating, shape-shifting extraterrestrial reptilian humanoids with only one objective in their cold-blooded little heads: to enslave the human race. They are our leaders, our corporate executives, our beloved Oscar-winning actors and Grammy-winning singers, and they're responsible for the Holocaust, the Oklahoma City bombings and the 9/11 attacks ... at least according to former BBC sports reporter David Icke, who became the poster human for the theory in 1998 after publishing his first book, The Biggest Secret, which contained interviews with two Brits who claimed members of the royal family are nothing more than reptiles with crowns. (Picture Dracula meets Swamp Thing). The conspiracy theorist and New Age philosopher, who wore only turquoise for a time and insisted on being called Son of God-Head, says these 'Annunaki' (the reptiles) have controlled humankind since ancient times; they count among their number Queen Elizabeth, George W. Bush, Henry Kissinger, Bill and Hillary Clinton and Bob Hope. Encroaching on other conspiracy theorists' territory, Icke even claims that the lizards are behind secret societies like the Freemasons and the Illuminati. Since earning the dubious title of 'paranoid of the decade' in the late 1990s, Icke has written several books on the topic, including his latest work, The David Icke Guide to the Global Conspiracy, while operating his own website — complete with merchandise and advertisements.\"\n",
    "\n",
    "res_times = fastrun(times)\n",
    "print(len(res_times['environs']))\n",
    "res_fox = fastrun(fox)\n",
    "print(len(res_fox['environs']))\n",
    "res_onion = fastrun(onion)\n",
    "print(len(res_onion['environs']))\n",
    "res_clickhole = fastrun(clickhole)\n",
    "print(len(res_clickhole['environs']))\n",
    "res_reptilians = fastrun(reptilians)\n",
    "print(len(res_reptilians['environs']))"
   ]
  },
  {
   "cell_type": "code",
   "execution_count": 3,
   "metadata": {},
   "outputs": [],
   "source": [
    "x, y, f = fringiness(res_to_matrix(res_times))\n",
    "plot = embedding_plot_bokeh(x, y, f)\n",
    "histogram = histogram_bokeh(f)\n",
    "show(plot)\n",
    "show(histogram)"
   ]
  },
  {
   "cell_type": "code",
   "execution_count": 6,
   "metadata": {},
   "outputs": [],
   "source": [
    "x, y, f = fringiness(res_to_matrix(res_fox))\n",
    "plot = embedding_plot_bokeh(x, y, f)\n",
    "histogram = histogram_bokeh(f)\n",
    "show(plot)\n",
    "show(histogram)"
   ]
  },
  {
   "cell_type": "code",
   "execution_count": 7,
   "metadata": {
    "scrolled": false
   },
   "outputs": [],
   "source": [
    "x, y, f = fringiness(res_to_matrix(res_onion))\n",
    "plot = embedding_plot_bokeh(x, y, f)\n",
    "histogram = histogram_bokeh(f)\n",
    "show(plot)\n",
    "show(histogram)"
   ]
  },
  {
   "cell_type": "code",
   "execution_count": 12,
   "metadata": {},
   "outputs": [],
   "source": [
    "x, y, f = fringiness(res_to_matrix(res_clickhole))\n",
    "plot = embedding_plot_bokeh(x, y, f)\n",
    "histogram = histogram_bokeh(f)\n",
    "show(plot)\n",
    "show(histogram)"
   ]
  },
  {
   "cell_type": "code",
   "execution_count": 13,
   "metadata": {
    "collapsed": true
   },
   "outputs": [],
   "source": [
    "x, y, f = fringiness(res_to_matrix(res_reptilians))\n",
    "plot = embedding_plot_bokeh(x, y, f)\n",
    "histogram = histogram_bokeh(f)\n",
    "show(plot)\n",
    "show(histogram)"
   ]
  },
  {
   "cell_type": "code",
   "execution_count": null,
   "metadata": {
    "collapsed": true
   },
   "outputs": [],
   "source": []
  }
 ],
 "metadata": {
  "kernelspec": {
   "display_name": "Python 3",
   "language": "python",
   "name": "python3"
  },
  "language_info": {
   "codemirror_mode": {
    "name": "ipython",
    "version": 3
   },
   "file_extension": ".py",
   "mimetype": "text/x-python",
   "name": "python",
   "nbconvert_exporter": "python",
   "pygments_lexer": "ipython3",
   "version": "3.6.2"
  }
 },
 "nbformat": 4,
 "nbformat_minor": 2
}
